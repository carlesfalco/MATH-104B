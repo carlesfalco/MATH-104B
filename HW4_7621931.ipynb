{
 "cells": [
  {
   "cell_type": "markdown",
   "metadata": {},
   "source": [
    "Carles Falcó i Gandia\n",
    "\n",
    "7621931\n",
    "\n",
    "falcoigandia@ucsb.edu"
   ]
  },
  {
   "cell_type": "code",
   "execution_count": 1,
   "metadata": {
    "collapsed": true
   },
   "outputs": [],
   "source": [
    "from numpy import array, zeros, dot, tril, triu"
   ]
  },
  {
   "cell_type": "markdown",
   "metadata": {},
   "source": [
    "# Gaussian elimination \n",
    "\n",
    "(a) Implementing Gaussian elimination with partial pivoting"
   ]
  },
  {
   "cell_type": "code",
   "execution_count": 2,
   "metadata": {},
   "outputs": [],
   "source": [
    "# Echelon form and multipliers\n",
    "# INPUT: pa (nxn matrix), b (n-vector)\n",
    "# OUTPUT: U (echelon form of PA),\n",
    "# PA (A with swapped rows),\n",
    "# Pb (b with swapped rows)\n",
    "# Carles Falcó i Gandia\n",
    "# 02/09/2019\n",
    "\n",
    "eps = 2**(-52)\n",
    "\n",
    "def LU_form(A,b):\n",
    "    Ab = zeros((A[0].size, A[0].size + 1))\n",
    "    l_index = []\n",
    "    Ab[:,:-1] = A\n",
    "    Ab[:,-1] = b\n",
    "    Ab_bis = Ab.copy()\n",
    "    for i in range(0, len(A) - 1):\n",
    "        a = max(abs(A[i:,i]))\n",
    "        if abs(a) < eps:\n",
    "            print('ERROR: Singular matrix')\n",
    "            return\n",
    "        ix = list(abs(A[:,i])).index(a)\n",
    "        l_index.append((i,ix))\n",
    "        Ab[i], Ab[ix] = Ab[ix].copy(), Ab[i].copy()\n",
    "        for j in range(i + 1, len(A)):\n",
    "            lm = Ab[j,i]/Ab[i,i]\n",
    "            Ab[j] -= Ab[i]*lm \n",
    "            Ab[j,i] = lm # storing multipliers same matrix\n",
    "    if Ab[-1,-2] == 0: # cannot be zero!\n",
    "            print('ERROR: Singular matrix')\n",
    "            return\n",
    "    for k in l_index: # obtaining PA\n",
    "        Ab_bis[k[0]], Ab_bis[k[1]] = Ab_bis[k[1]].copy(), Ab_bis[k[0]].copy()\n",
    "    return Ab, Ab_bis\n",
    "\n",
    "\n",
    "# Solving upper diagonal system Ux = y\n",
    "# INPUT: U (linear system matrix, upper diagonal), \n",
    "# y (column vector)\n",
    "# OUTPUT: x (unknowns column vector)\n",
    "# Carles Falcó i Gandia\n",
    "# 14/11/18\n",
    "\n",
    "def linear_u_solver(U,y):\n",
    "    x = zeros( len(y) )\n",
    "    for i in range(len(y) - 1,-1,-1):\n",
    "        coef = [U[i,j]*x[j] for j in range(len(y) - 1,i,-1)]\n",
    "        x[i] = ( y[i] - sum(coef) )/U[i,i]\n",
    "    return x\n",
    "\n",
    "# Solving linear system, Gaussian elimination, LU\n",
    "# INPUT: A (nxn matrix), b (n-vector)\n",
    "# OUTPUT: PA (system matrix, not expanded, swapped rows)\n",
    "# x (solution to PAx = b)\n",
    "# L (lower triagonal matrix)\n",
    "# U (upper triagonal matrix)\n",
    "# Carles Falcó i Gandia\n",
    "# 02/09/2019\n",
    "\n",
    "def gaussian_LU(A,b):\n",
    "    LU, PA = LU_form(A,b)\n",
    "    L = tril(LU[:,:-1])\n",
    "    U = triu(LU[:,:-1])\n",
    "    for i in range(0,len(L)):\n",
    "        L[i,i] = 1\n",
    "    return PA[:,:-1], linear_u_solver(U,LU[:,-1]), L, U"
   ]
  },
  {
   "cell_type": "markdown",
   "metadata": {},
   "source": [
    "(b) Solving $Ax = b$ for $$A = \\begin{bmatrix}\n",
    "    5 & 1 & 0 & 2 & 1 \\\\\n",
    "     0 & 4 & 0 & 1 & 2 \\\\\n",
    "      1 & 1 & 4 & 1 & 1 \\\\\n",
    "       0 & 1 & 2 & 6 & 0 \\\\\n",
    "        0 & 0 & 1 & 2 & 4 \n",
    "\\end{bmatrix}\\qquad b = \\begin{bmatrix}\n",
    "    1 \\\\\n",
    "    2 \\\\\n",
    "    3 \\\\\n",
    "    4 \\\\\n",
    "    5 \\\\\n",
    "\\end{bmatrix} $$"
   ]
  },
  {
   "cell_type": "code",
   "execution_count": 3,
   "metadata": {},
   "outputs": [
    {
     "name": "stdout",
     "output_type": "stream",
     "text": [
      "Solving system Ax = b with A:\n",
      "[[ 5.  1.  0.  2.  1.]\n",
      " [ 0.  4.  0.  1.  2.]\n",
      " [ 1.  1.  4.  1.  1.]\n",
      " [ 0.  1.  2.  6.  0.]\n",
      " [ 0.  0.  1.  2.  4.]]\n",
      "\n",
      "Matrix with swapped rows\n",
      "[[ 5.  1.  0.  2.  1.]\n",
      " [ 0.  4.  0.  1.  2.]\n",
      " [ 1.  1.  4.  1.  1.]\n",
      " [ 0.  1.  2.  6.  0.]\n",
      " [ 0.  0.  1.  2.  4.]]\n",
      "\n",
      "Solution to the system PAx = Pb\n",
      "[-0.17083787 -0.06746464  0.46028292  0.52448313  0.8726877 ]\n"
     ]
    }
   ],
   "source": [
    "a_b = array([[5.,1.,0.,2.,1.],\n",
    "           [0.,4.,0.,1.,2.],\n",
    "           [1.,1.,4.,1.,1.],\n",
    "           [0.,1.,2.,6.,0.],\n",
    "           [0.,0.,1.,2.,4.]])\n",
    "\n",
    "b_b = array([1.,2.,3.,4.,5.])\n",
    "\n",
    "pa_b, x_b, L_b, U_b = gaussian_LU(a_b,b_b)\n",
    "\n",
    "print('Solving system Ax = b with A:')\n",
    "print(a_b)\n",
    "\n",
    "print('\\nMatrix with swapped rows')\n",
    "print(pa_b)\n",
    "\n",
    "print('\\nSolution to the system PAx = Pb')\n",
    "print(x_b)"
   ]
  },
  {
   "cell_type": "markdown",
   "metadata": {},
   "source": [
    "We can check that this solution is indeed right.\n",
    "\n",
    "The output of our code show that no rows were swapped in this example."
   ]
  },
  {
   "cell_type": "code",
   "execution_count": 4,
   "metadata": {},
   "outputs": [
    {
     "data": {
      "text/plain": [
       "array([ 1.,  2.,  3.,  4.,  5.])"
      ]
     },
     "execution_count": 4,
     "metadata": {},
     "output_type": "execute_result"
    }
   ],
   "source": [
    "dot(pa_b,x_b)"
   ]
  },
  {
   "cell_type": "markdown",
   "metadata": {},
   "source": [
    "(c) Testing code for $$A = \\begin{bmatrix}\n",
    "    5 & 1 & 0 & 2  \\\\\n",
    "     0 & 4 & 0 & 8 \\\\\n",
    "      1 & 1 & 4 & 2 \\\\\n",
    "       0 & 1 & 2 & 2 \\\\ \n",
    "\\end{bmatrix}\\qquad b = \\begin{bmatrix}\n",
    "    1 \\\\\n",
    "    2 \\\\\n",
    "    3 \\\\\n",
    "    4 \\\\\n",
    "\\end{bmatrix} $$\n",
    "\n",
    "We'll see - as one can check easily $\\det(A) = 0$ - that the matrix is sigular."
   ]
  },
  {
   "cell_type": "code",
   "execution_count": 5,
   "metadata": {},
   "outputs": [
    {
     "name": "stdout",
     "output_type": "stream",
     "text": [
      "ERROR: Singular matrix\n"
     ]
    }
   ],
   "source": [
    "a_c = array([[5.,1.,0.,2.],\n",
    "           [0.,4.,0.,8.],\n",
    "           [1.,1.,4.,2.],\n",
    "           [0.,1.,2.,2.]])\n",
    "\n",
    "b_c = array([1.,2.,3.,4.])\n",
    "\n",
    "LU_form(a_c,b_c)"
   ]
  },
  {
   "cell_type": "markdown",
   "metadata": {
    "collapsed": true
   },
   "source": [
    "# 2\n",
    "\n",
    "(a) Let A be an $n\\times n$ upper or lower triagonal matrix. If we denote by $A_1,\\ldots,A_n$ the principal submatrices of $A$ we can expand the determinant, starting from the last row/column (depending on whether is upper/lower triangular) so that:\n",
    "$$\\det(A) = a_{nn}\\det(A_{n-1}) = a_{nn}a_{nn-1}\\det(A_{n-2}) = \\ldots = a_{nn}a_{nn-1}\\ldots a_{22}\\det(A_{1})=a_{11}a_{22}\\ldots a_{nn}$$\n",
    "\n",
    "(b) We'll prove that the product of pivots in the Gaussian Elimination for $Ax = b$ is equal to the determinant of $A$ up to a sign. After the Gaussian Elimination process we obtain a factorization of the matrix $A$ according:\n",
    "$$PA = LU$$ where the matrix $P$ is a $n\\times n$ identity matrix that might have some swapped rows. Hence $\\det(PA) = \\pm\\det(A)$. $L$ is a lower triagonal matrix with 1's in the diagonal. By (a) we have $\\det(L) = 1$. On the other hand $U$ is the matrix we obtain when transforming $A$ into an upper triangular matrix. This will have all the pivots in the diagonal and by (a) again:\n",
    "$$\\det(A) = \\pm \\det(P) = \\pm p_1\\ldots p_n$$ where $p_1,\\ldots,p_n$ are all the pivots.\n",
    "\n",
    "(c) We'll prove that the product of two $n\\times n$ upper (lower) triangular matrix is also an upper (lower) triangular matrix. Let's assume that $A,B$ are two $n\\times n$ upper triangular matrices. That means that $a_{ij},b_{ij} = 0$ for $i>j$, this is for the elements under the diagonal. If $AB = C = (c_{ij})$ then assuming $l>m$:\n",
    "$$c_{lm} = \\sum_{k = 1}^n a_{ik}b_{kj} = \\sum_{k = 1}^{m} a_{lk}b_{km} + \\sum_{k = m + 1}^{n} a_{lk}b_{km} = 0$$\n",
    "because in the first sum the terms $a_{lk} = 0$ and in the second sum the terms $b_{km} = 0$. Then $C$ is also upper triangular.\n",
    "\n",
    "If both $A,B$ are lower triangular then $a_{ij},b_{ij} = 0$ for $i<j$. Assuming $l<m$ one finds:\n",
    "$$c_{lm} = \\sum_{k = 1}^n a_{ik}b_{kj} = \\sum_{k = 1}^{m-1} a_{lk}b_{km} + \\sum_{k = m}^{n} a_{lk}b_{km} = 0$$\n",
    "because in the first sum the terms $b_{lk} = 0$ and in the second sum the terms $a_{km} = 0$. Then $C$ is lower triangular.\n",
    "\n",
    "(d) If $L_i$ is a lower triangular matrix with the $n-i$ multipliers -negative sign- produced in the $i$th step of the Gaussian Elimination stored in its $i$th column, we'll prove that $L_i^{-1}$ is obtained by changing the sign of the multipliers. We'll call this matrix $A$ and we'll compute its inverse using Gaussian elimination.\n",
    "$$A = \\begin{bmatrix}\n",
    "    1    & 0      & \\ldots        & \\ldots & \\ldots  & &\\ldots     & 0         \\\\\n",
    "    0      & 1    & \\ldots        & \\ldots & \\ldots   & &\\ldots    & 0           \\\\\n",
    "    \\vdots & \\vdots & \\ddots &        &              & &  & \\vdots  \\\\\n",
    "    \\vdots & \\vdots &               & 1 &             & &   & \\vdots \\\\\n",
    "    \\vdots & \\vdots &               &    -m_{i+1,i}    &\\ddots&  &  & \\vdots \\\\\n",
    "    \\vdots & \\vdots &               &      -m_{i+2,i}  & &   & & \\vdots \\\\\n",
    "    0      & 0      & \\ldots        & \\vdots & \\ldots     &  & \\ddots  & 0       \\\\\n",
    "    0      & 0      & \\ldots        & -m_{n,i} & \\ldots    & &          & 1\n",
    "\\end{bmatrix}$$\n",
    "Now expanding the matrix and writing as blocks $Ab = (A|I_n)$ where $I_n$ is a $n\\times n$ identity matrix, we can apply the row transformations:\n",
    "$$R_k\\rightarrow R_k - a_{ki}R_i,\\;\\;\\forall k>i$$ \n",
    "$$Ab \\longrightarrow (I_n|B)$$\n",
    "The elements $a_{ki}$ are precisely the multpliers with a negative sign and hence the matrix $B$ will be:\n",
    "$$B = \\begin{bmatrix}\n",
    "    1    & 0      & \\ldots        & \\ldots & \\ldots  & &\\ldots     & 0         \\\\\n",
    "    0      & 1    & \\ldots        & \\ldots & \\ldots   & &\\ldots    & 0           \\\\\n",
    "    \\vdots & \\vdots & \\ddots &        &              & &  & \\vdots  \\\\\n",
    "    \\vdots & \\vdots &               & 1 &             & &   & \\vdots \\\\\n",
    "    \\vdots & \\vdots &               &    m_{i+1,i}    &\\ddots&  &  & \\vdots \\\\\n",
    "    \\vdots & \\vdots &               &      m_{i+2,i}  & &   & & \\vdots \\\\\n",
    "    0      & 0      & \\ldots        & \\vdots & \\ldots     &  & \\ddots  & 0       \\\\\n",
    "    0      & 0      & \\ldots        & m_{n,i} & \\ldots    & &          & 1\n",
    "\\end{bmatrix}$$\n",
    "Obviously this will be the inverse since all row transformations can be written as a product of matrices:\n",
    "$$ Q(A|I_n) = (I_n| B)\\implies QA = I_n,\\;\\;Q = B$$\n",
    "And hence $B = A^{-1}$.\n",
    "\n",
    "# LU factorization of \n",
    "\n",
    "$$\\begin{bmatrix}\n",
    "    5 & 1 & 0  \\\\\n",
    "     0 & 4 & 0 \\\\\n",
    "      1 & 1 & 4 \\\\\n",
    "\\end{bmatrix}$$\n",
    "\n",
    "The factorization exists because the principal submatrices are nonsingular:\n",
    "$$\\det(5) = 5,\\quad\\quad\\det\\begin{bmatrix}\n",
    "    5 & 1 \\\\\n",
    "     0 & 4 \\\\\n",
    "\\end{bmatrix} = 20\\quad\\quad\\det\\begin{bmatrix}\n",
    "    5 & 1 & 0  \\\\\n",
    "     0 & 4 & 0 \\\\\n",
    "      1 & 1 & 4 \\\\\n",
    "\\end{bmatrix} = 4\\cdot 20$$\n",
    "Using row transformations:\n",
    "\n",
    "* First $R_3\\rightarrow R_3 - R_1/5$\n",
    "* Second $R_3\\rightarrow R_3-R_2/5$\n",
    "\n",
    "$$\\begin{bmatrix}\n",
    "    5 & 1 & 0  \\\\\n",
    "     0 & 4 & 0 \\\\\n",
    "      1 & 1 & 4 \\\\\n",
    "\\end{bmatrix}\\rightarrow\\begin{bmatrix}\n",
    "    5 & 1 & 0  \\\\\n",
    "     0 & 4 & 0 \\\\\n",
    "      0 & 4/5 & 4 \\\\\n",
    "\\end{bmatrix}\\rightarrow \\begin{bmatrix}\n",
    "    5 & 1 & 0  \\\\\n",
    "     0 & 4 & 0 \\\\\n",
    "      0 & 0 & 4 \\\\\n",
    "\\end{bmatrix} = U$$\n",
    "And we can find $L$ by storing the multipliers in a lower triangular matrix:\n",
    "$$L = \\begin{bmatrix}\n",
    "    1 & 0 & 0  \\\\\n",
    "     0 & 1 & 0 \\\\\n",
    "      1/5 & 1/5 & 1 \\\\\n",
    "\\end{bmatrix}$$\n",
    "\n",
    "Of course:\n",
    "$$LU = \\begin{bmatrix}\n",
    "    1 & 0 & 0  \\\\\n",
    "     0 & 1 & 0 \\\\\n",
    "      1/5 & 1/5 & 1 \\\\\n",
    "\\end{bmatrix}\\begin{bmatrix}\n",
    "    5 & 1 & 0  \\\\\n",
    "     0 & 4 & 0 \\\\\n",
    "      0 & 0 & 4 \\\\\n",
    "\\end{bmatrix} = \\begin{bmatrix}\n",
    "    5 & 1 & 0  \\\\\n",
    "     0 & 4 & 0 \\\\\n",
    "      1 & 1 & 4 \\\\\n",
    "\\end{bmatrix}$$\n",
    "\n",
    "We can check our previous code too."
   ]
  },
  {
   "cell_type": "code",
   "execution_count": 6,
   "metadata": {},
   "outputs": [
    {
     "name": "stdout",
     "output_type": "stream",
     "text": [
      "L = \n",
      "[[ 1.   0.   0. ]\n",
      " [ 0.   1.   0. ]\n",
      " [ 0.2  0.2  1. ]]\n",
      "\n",
      "U = \n",
      "[[ 5.  1.  0.]\n",
      " [ 0.  4.  0.]\n",
      " [ 0.  0.  4.]]\n",
      "\n",
      "LU = \n",
      "[[ 5.  1.  0.]\n",
      " [ 0.  4.  0.]\n",
      " [ 1.  1.  4.]]\n"
     ]
    }
   ],
   "source": [
    "a_c = array([[5.,1.,0.],[0.,4.,0.],[1.,1.,4.]])\n",
    "b_c = array([1.,1.,1.])\n",
    "\n",
    "pa_c, x_c, l_c, u_c = gaussian_LU(a_c,b_c)\n",
    "\n",
    "print('L = ')\n",
    "print(l_c)\n",
    "\n",
    "print('\\nU = ')\n",
    "print(u_c)\n",
    "\n",
    "print('\\nLU = ')\n",
    "print(dot(l_c,u_c))"
   ]
  },
  {
   "cell_type": "markdown",
   "metadata": {},
   "source": [
    "# Choleski factorization of \n",
    "$$A=\\begin{bmatrix}\n",
    "    3 & -1 & 0  \\\\\n",
    "     -1 & 3 & -1 \\\\\n",
    "      0 & -1 & 3 \\\\\n",
    "\\end{bmatrix}$$\n",
    "\n",
    "The factorization exists since $A$ is symmetric and positive definite. This follows from:\n",
    "$$\\det(3) > 0,\\quad\\quad\\det\\begin{bmatrix}\n",
    "    3 & -1\\\\\n",
    "     -1 & 3  \\\\\n",
    "\\end{bmatrix}>0,\\quad\\quad \\det\\begin{bmatrix}\n",
    "    3 & -1 & 0  \\\\\n",
    "     -1 & 3 & -1 \\\\\n",
    "      0 & -1 & 3 \\\\\n",
    "\\end{bmatrix}>0$$\n",
    "\n",
    "Now writing $$L = \\begin{bmatrix}\n",
    "    a_{11} & 0 & 0  \\\\\n",
    "     a_{21} & a_{22} & 0 \\\\\n",
    "      a_{31} & a_{32} & a_{33} \\\\\n",
    "\\end{bmatrix}$$ with positive diagonal entries and imposing $LL^t = A$, one finds:\n",
    "$$ a_{11} = \\sqrt{3}$$\n",
    "$$ a_{21} = -1/\\sqrt{3}$$\n",
    "$$ a_{31} = 0$$\n",
    "$$ a_{22} = \\sqrt{3 - a_{11}^{-2}} = 2\\sqrt{2/3}$$\n",
    "$$ a_{23} = -\\sqrt{3/8}$$\n",
    "$$ a_{33} = \\sqrt{21/8}$$\n",
    "and hence:\n",
    "$$L = \\begin{bmatrix}\n",
    "    \\sqrt{3} & 0 & 0  \\\\\n",
    "     \\frac{-1}{\\sqrt{3}} & 2\\sqrt{\\frac{2}{3}} & 0 \\\\\n",
    "      0 & -\\frac{1}{2}\\sqrt{\\frac{3}{2}} & \\frac{1}{2}\\sqrt{\\frac{21}{2}} \\\\\n",
    "\\end{bmatrix}$$\n",
    "\n",
    "We can verify that $A = LL^t$:\n",
    "$$\\begin{bmatrix}\n",
    "    \\sqrt{3} & 0 & 0  \\\\\n",
    "     \\frac{-1}{\\sqrt{3}} & 2\\sqrt{\\frac{2}{3}} & 0 \\\\\n",
    "      0 & -\\frac{1}{2}\\sqrt{\\frac{3}{2}} & \\frac{1}{2}\\sqrt{\\frac{21}{2}} \\\\\n",
    "\\end{bmatrix}\\begin{bmatrix}\n",
    "    \\sqrt{3} & \\frac{-1}{\\sqrt{3}} & 0  \\\\\n",
    "     0 & 2\\sqrt{\\frac{2}{3}} & -\\frac{1}{2}\\sqrt{\\frac{3}{2}} \\\\\n",
    "      0 & 0 & \\frac{1}{2}\\sqrt{\\frac{21}{2}} \\\\\n",
    "\\end{bmatrix} = \\begin{bmatrix}\n",
    "    3 & -1 & 0  \\\\\n",
    "     -1 & 3 & -1 \\\\\n",
    "      0 & -1 & 3 \\\\\n",
    "\\end{bmatrix}$$"
   ]
  }
 ],
 "metadata": {
  "kernelspec": {
   "display_name": "Python 3",
   "language": "python",
   "name": "python3"
  },
  "language_info": {
   "codemirror_mode": {
    "name": "ipython",
    "version": 3
   },
   "file_extension": ".py",
   "mimetype": "text/x-python",
   "name": "python",
   "nbconvert_exporter": "python",
   "pygments_lexer": "ipython3",
   "version": "3.6.3"
  }
 },
 "nbformat": 4,
 "nbformat_minor": 2
}
