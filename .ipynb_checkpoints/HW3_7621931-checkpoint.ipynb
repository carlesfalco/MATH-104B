{
 "cells": [
  {
   "cell_type": "markdown",
   "metadata": {},
   "source": [
    "Carles Falcó i Gandia\n",
    "\n",
    "Perm Number: 7621931\n",
    "\n",
    "falcoigandia@ucsb.edu"
   ]
  },
  {
   "cell_type": "code",
   "execution_count": 1,
   "metadata": {
    "collapsed": true
   },
   "outputs": [],
   "source": [
    "# Python modules\n",
    "from numpy import asarray, array, zeros, linspace, sqrt, sin\n",
    "import matplotlib.pyplot as plt"
   ]
  },
  {
   "cell_type": "markdown",
   "metadata": {},
   "source": [
    "# Simple Simpson rule from Hermite interpolation\n",
    "\n",
    "We'll find the simple Simpson Rule on $[-1,1]$ by approimating the integrand $f$ with the Hermite-interpolation polynomial which interpolates $f(-1),f(0),f'(0)$ and $f(1)$. First we construct the table of Newton differences:\n",
    "\n",
    "$$\n",
    "\\begin{array}{|c|c|ccc}\n",
    "-1 & f(-1) \\\\\n",
    "    &     & f(0)-f(-1) \\\\\n",
    "0 & f(0) &             & f'(0)-f(0)+f(-1)\\\\\n",
    "    &     & f'(0)  &              & \\frac{1}{2}\\big(f(1)-f'(-1)-2f'(0)\\big)\\\\\n",
    "0 & f(0) &             & f(1)-f(0)-f'(0)\\\\\n",
    "    &     & f(1)-f(0)\\\\\n",
    "1 & f(1) \\\\\n",
    "\\end{array}\n",
    "$$\n",
    "\n",
    "Then the Hermite-interpolating polynomial is:\n",
    "$$p(x) = f(-1) + (x+1)\\big(f(0)-f(-1)\\big)+x(x+1)\\big(f'(0)-f(0)+f(-1)\\big)$$\n",
    "$$+x^2(x+1)\\big(\\frac{1}{2}f(1)-\\frac{1}{2}f(-1)-f'(0)\\big)$$\n",
    "\n",
    "\n",
    "Now we can approximate:\n",
    "$$\\int_{-1}^1f(x)dx\\approx\\int_{-1}^{1} p(x) dx$$ $$= 2f(-1) + 2\\big(f(0)-f(-1)\\big)+\\frac{2}{3}\\big(f'(0)-f(0)+f(-1)\\big)+\\frac{2}{3}\\big(\\frac{1}{2}f(1)-\\frac{1}{2}f(-1)-f'(0)\\big)$$\n",
    "$$ = \\frac{1}{3}\\Big(f(-1)+4f(0)+f(1)\\Big)$$\n",
    "\n",
    "which is the simple Simpson rule on $[-1,1]$.\n",
    "\n",
    "But how about the error? We know that the error we make by approximating $f$ by its interpolating polynomial is given by the Cauchy remainder:\n",
    "$$\\frac{1}{4!}f^{4)}(\\eta(x))(x+1)x^2(x-1) = \\frac{1}{4!}f^{4)}(\\eta(x))(x^2-1)x^2 $$ with $\\eta(x)\\in(-1,1)$. Since $x^2(x^2-1)\\leq 0$ on $(-1,1)$ we can use the weighted mean value theorem for integrals to evaluate this error. Integrating, $\\exists\\eta\\in(-1,1)$ such that:\n",
    "$$\\int_{-1}^1 \\frac{1}{4!}f^{4)}(\\eta(x))x^2(x^2-1) dx = \\frac{1}{4!}f^{4)}(\\eta) \\int_{-1}^1x^2(x^2-1) dx = -\\frac{1}{90}f^{4)}(\\eta)$$\n",
    "\n",
    "All in all we can write:\n",
    "$$\\int_{-1}^1f(x)dx = \\frac{1}{3}\\Big(f(-1)+4f(0)+f(1)\\Big)-\\frac{1}{90}f^{4)}(\\eta)$$\n",
    "with $\\eta\\in(-1,1)$.\n",
    "\n",
    "# Approximating the integral \n",
    "\n",
    "of $$f(x) =   \\begin{cases}\n",
    "    1+x, & \\text{for } -1 \\leq x \\leq 0 \\\\\n",
    "    1-x, & \\text{for } 0 \\leq x \\leq 1 \\\\\n",
    "  \\end{cases}$$"
   ]
  },
  {
   "cell_type": "code",
   "execution_count": 2,
   "metadata": {},
   "outputs": [
    {
     "data": {
      "image/png": "[encoded data removed]",
      "text/plain": [
       "<matplotlib.figure.Figure at 0x19fe2c968d0>"
      ]
     },
     "metadata": {},
     "output_type": "display_data"
    }
   ],
   "source": [
    "# Plotting f\n",
    "# Carles Falcó i Gandia\n",
    "# 25/01/2019\n",
    "\n",
    "def f(x):\n",
    "    y = asarray(x)\n",
    "    f = zeros(y.size)\n",
    "    f += ((-1 < y) & (y <= 0)) * (1 + y) +((0 < y) & (y < 1)) * (1 - y)\n",
    "    return f\n",
    "\n",
    "t_1 = linspace(-1,1,500)\n",
    "plt.plot(t_1,f(t_1),label = '$f$')\n",
    "plt.legend()\n",
    "plt.show()"
   ]
  },
  {
   "cell_type": "markdown",
   "metadata": {},
   "source": [
    "The actual value of the integral is obviously 1.\n",
    "\n",
    "(a) Using the simple Trapezoidal rule. This is:\n",
    "$$\\int_{-1}^{1}f(x)dx \\approx \\frac{1}{2}\\big(f(1)+f(-1)\\big)\\big(1-(-1)\\big) = 0$$\n",
    "So we are making an error of 1.\n",
    "\n",
    "(b) Using the simple Simpson rule. This is:\n",
    "$$\\int_{-1}^{1}f(x)dx \\approx \\frac{1}{3}\\big(f(-1)+4f(0)+f(1)\\big) = \\frac{4}{3}$$\n",
    "The error in this approximation is $\\frac{1}{3}$.\n",
    "\n",
    "(c) Using the simple Trapezoidal rule over $[-1,0]$ and then over $[0,1]$. Note that $f$ is $C^{\\infty}$ on $(-1,0)$ and also on $(0,1)$. Moreover $f''(x) = 0$ for $x$ in these intervals. Since the error in the simple Trapezoidal rule depends on the second derivative of $f$ we should get the exact value of the integral. In this case:\n",
    "$$\\int_{-1}^{1}f(x)dx = \\int_{-1}^{0}f(x)dx + \\int_{0}^{1}f(x)dx \\approx \\frac{1}{2}\\big(f(1)+f(0)\\big)\\big(0-(-1)\\big) + \\frac{1}{2}\\big(f(0)+f(1)\\big)\\big(1-0\\big) = 1$$\n",
    "as we expected. \n",
    "\n",
    "However in cases (a) and (b) we couldn't estimate the error by using the derivatives of $f$. This is because $f$ is not differentiable in $x=0$ and then it is not smooth on $[-1,1]$."
   ]
  },
  {
   "cell_type": "markdown",
   "metadata": {},
   "source": [
    "# Constructing a quadrature\n",
    "of the form:\n",
    "$$\\int_{-1}^{1}f(x)dx \\approx A_0 f(-1) + A_1f(0)+A_2f(1)$$\n",
    "which is exact for polynomials of degree $\\leq 2$. That means that:\n",
    "\n",
    "$$\\int_{-1}^1 dx = 2 = A_0 + A_1 + A_2$$\n",
    "\n",
    "$$\\int_{-1}^1 xdx = 0 = -A_0 +A_2$$\n",
    "\n",
    "$$\\int_{-1}^1 x^2dx = 2/3 = A_0 + A_2$$\n",
    "\n",
    "Which means that $A_0 = A_2 = 1/3$ and $A_1 = 4/3$. Thus, the quadrature \n",
    "$$\\int_{-1}^{1}f(x)dx \\approx \\frac{1}{3}\\big(f(-1) + A_1f(0)+A_2f(1)\\big)$$\n",
    "has degree of precision at least $2$ and then it is exact for polynomials of degree $\\leq 2$.\n",
    "In fact this is the Simpson simple quadrature which we know has degree of precision $3$.\n",
    "\n",
    "(a) We'll derive the 3-point Gaussian quadrature to approximate $\\int_{-1}^{1}f(x)dx$. For the weight function $w(x) = 1$ the orthogonal polynomials are Legendre polynomials. We need 3 nodes, and the third Legendre polynomial is:\n",
    "$$\\psi_3(x) = x^3-\\frac{3}{5}x$$\n",
    "Its zeros are: $x_0 = - \\sqrt{\\frac{3}{5}}, x_1 = 0$ and $x_2 = \\sqrt{\\frac{3}{5}}$. Then the quadrature can be written as:\n",
    "$$\\int_{-1}^{1}f(x)dx \\approx A_0 f(- \\sqrt{\\frac{3}{5}}) + A_1f(0)+A_2f(\\sqrt{\\frac{3}{5}})$$\n",
    "\n",
    "Now to find the coefficients $A_0,A_1$ and $A_2$ we'll use the method of unknown coefficients. Knowing that the quadrature is exact for $1,x,x^2$:\n",
    "$$\\int_{-1}^1 dx = 2 = A_0 + A_1 + A_2$$\n",
    "\n",
    "$$\\int_{-1}^1 xdx = 0 = -A_0\\sqrt{\\frac{3}{5}} +A_2\\sqrt{\\frac{3}{5}}$$\n",
    "\n",
    "$$\\int_{-1}^1 x^2dx = 2/3 = \\frac{3}{5}A_0 + \\frac{3}{5}A_2$$\n",
    "\n",
    "This system has solution:\n",
    "$$A_0 = A_2 = \\frac{5}{9},\\;A_1 = \\frac{8}{9}$$\n",
    "and thus:\n",
    "$$\\int_{-1}^{1}f(x)dx \\approx \\frac{5}{9} f\\Big(- \\sqrt{\\frac{3}{5}}\\Big) + \\frac{8}{9}f(0)+\\frac{5}{9}f\\Big(\\sqrt{\\frac{3}{5}}\\Big)$$\n",
    "\n",
    "(b) We can verify its degree of precision, which should be $2\\cdot2+1=5$. This means that the quadrature should be exact for $1,x,x^2,x^3,x^4,x^5$ but not for $x^6$. For $n\\geq 0$ the value of the integral of $x^n$ is:\n",
    "$$\\frac{1}{n+1}-\\frac{(-1)^{n+1}}{n+1}$$\n",
    "\n",
    "We know that it is exact for $n=0,1,2$ already. We just need to compute the cases $n=3,4,5,6$. Obviously if $n$ is odd both the quadrature and the integral are $0$. Now if $n=4$ the integral gives us $2/5$. The quadrature results in $\\frac{1}{9}(\\frac{9}{25}\\cdot2\\cdot 5) = \\frac{2}{5}$. However when $n = 6$ the quadrature gives $6/25\\neq2/7$. Then the degree of precision of the quadrature is $5$ as expected. We can ckeck it easily."
   ]
  },
  {
   "cell_type": "code",
   "execution_count": 3,
   "metadata": {},
   "outputs": [
    {
     "name": "stdout",
     "output_type": "stream",
     "text": [
      "Integrating x^1\n",
      " Exact integral = 0.000000\n",
      " Result of the quadrature = 0.000000\n",
      "\n",
      "Integrating x^2\n",
      " Exact integral = 0.666667\n",
      " Result of the quadrature = 0.666667\n",
      "\n",
      "Integrating x^3\n",
      " Exact integral = 0.000000\n",
      " Result of the quadrature = 0.000000\n",
      "\n",
      "Integrating x^4\n",
      " Exact integral = 0.400000\n",
      " Result of the quadrature = 0.400000\n",
      "\n",
      "Integrating x^5\n",
      " Exact integral = 0.000000\n",
      " Result of the quadrature = 0.000000\n",
      "\n",
      "Integrating x^6\n",
      " Exact integral = 0.285714\n",
      " Result of the quadrature = 0.240000\n",
      "\n"
     ]
    }
   ],
   "source": [
    "# Verifying degree of precision\n",
    "# Carles Falcó i Gandia\n",
    "# 25/01/2019\n",
    "\n",
    "for n in range(1,7):\n",
    "    integral = 1/(n+1) - (-1)**(n+1)/(n+1)\n",
    "    quad = 1/9*(5*(-sqrt(3/5))**n + 5*(sqrt(3/5))**n )\n",
    "    print(\"Integrating x^%i\\n Exact integral = %f\\n Result of the quadrature = %f\\n\" \n",
    "          % (n, integral, quad))"
   ]
  },
  {
   "cell_type": "markdown",
   "metadata": {},
   "source": [
    "(c) Accuracy of this Gaussian quadrature in comparision with the simple Simpson rule for approximating $\\int_{-1}^1e^xdx = e-e^{-1}$.\n",
    "* Using Simpson rule we have:\n",
    "$$\\int_{-1}^1e^xdx\\approx \\frac{1}{3}(e^{-1}+4+e)$$\n",
    "which gives an error:\n",
    "$$\\epsilon = \\frac{1}{3}(e-4-4e^{-1})\\approx -0.92$$\n",
    "\n",
    "* Using the quadrature we obtain:\n",
    "$$\\int_{-1}^1e^xdx\\approx \\frac{1}{9}(5e^{-\\sqrt{3/5}}+4+5e^{\\sqrt{3/5}})$$ \n",
    "which gives an error:\n",
    "$$\\epsilon \\approx 0.44$$\n",
    "\n",
    "So by using the quadrature and only 3 nodes we have approximately half the error me made with the Simpson simple rule.\n",
    "\n",
    "(d) Using the quadrature for $\\int_a^bf(x)dx$. If we use the change of variable $x = \\frac{1}{2}(a+b) + \\frac{1}{2}(b-a)t$ for $t\\in[-1,1]$ we can write $F(t) = f(x(t))$ and thus:\n",
    "$$\\int_a^bf(x)dx = \\frac{1}{2}(b-a)\\int_{-1}^1F(t)dt \\approx \\frac{b-a}{18} \\Big[5F\\Big(- \\sqrt{\\frac{3}{5}}\\Big) + 8F(0)+{5}F\\Big(\\sqrt{\\frac{3}{5}}\\Big)\\Big] = \\frac{b-a}{18} \\Big[5f(\\alpha_{-}) + 8f(\\frac{1}{2}(a+b))+{5}f(\\alpha_{+})\\Big]$$\n",
    "where we defined:\n",
    "$$\\alpha_{\\pm} = \\frac{1}{2}\\Big[a\\big(1\\mp\\sqrt{\\frac{3}{5}}\\big)+b\\big(1\\pm\\sqrt{\\frac{3}{5}}\\big)\\Big]$$\n",
    "\n",
    "We can use this to approximate:\n",
    "$$\\int_0^4\\frac{\\sin(x)}{x}dx\\approx 1.75802203$$"
   ]
  },
  {
   "cell_type": "code",
   "execution_count": 4,
   "metadata": {},
   "outputs": [
    {
     "name": "stdout",
     "output_type": "stream",
     "text": [
      "Approximated value of the integral = 1.75802203\n"
     ]
    }
   ],
   "source": [
    "# Approximating integral\n",
    "# Carles Falcó i Gandia\n",
    "# 25/01/2019\n",
    "\n",
    "nodes = array([-sqrt(3/5),0,sqrt(3/5)])\n",
    "b = 4\n",
    "a = 0\n",
    "def x(t):\n",
    "    return 1/2*(a+b)+1/2*(b-a)*t\n",
    "\n",
    "def quad(f):\n",
    "    return (b-a)/18*(5*f(x(nodes[0])) + 8*f(x(nodes[1])) + 5*f(x(nodes[2])))\n",
    "\n",
    "fun = lambda x: sin(x)/x\n",
    "print(\"Approximated value of the integral = %.8f\" % quad(fun))"
   ]
  }
 ],
 "metadata": {
  "kernelspec": {
   "display_name": "Python 3",
   "language": "python",
   "name": "python3"
  },
  "language_info": {
   "codemirror_mode": {
    "name": "ipython",
    "version": 3
   },
   "file_extension": ".py",
   "mimetype": "text/x-python",
   "name": "python",
   "nbconvert_exporter": "python",
   "pygments_lexer": "ipython3",
   "version": "3.6.3"
  }
 },
 "nbformat": 4,
 "nbformat_minor": 2
}
