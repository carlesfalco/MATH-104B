{
 "cells": [
  {
   "cell_type": "markdown",
   "metadata": {},
   "source": [
    "Carles Falcó i Gandia\n",
    "\n",
    "Perm Number: 7621931\n",
    "\n",
    "falcoigandia@ucsb.edu"
   ]
  },
  {
   "cell_type": "code",
   "execution_count": 14,
   "metadata": {},
   "outputs": [],
   "source": [
    "import matplotlib.pyplot as plt\n",
    "from numpy import zeros, array\n",
    "from math import sin"
   ]
  },
  {
   "cell_type": "markdown",
   "metadata": {},
   "source": [
    "# Reduced system\n",
    "where floating point numbers are represented as $x = \\pm S\\cdot 2^E$ with $S = (1.b_1b_2)_2$ and $E\\in\\{-1,0,1\\}$.\n",
    " \n",
    "(a) Using basic principle of counting we see that there are:\n",
    "* 2 ways of choosing the sign\n",
    "* $2^2$ ways of choosing the mantissa\n",
    "* 3 ways of choosing the exponent\n",
    "\n",
    "Then a total of $2\\cdot 2^2\\cdot 3 = 24$ numbers can be represented.\n",
    "\n",
    "(b) The following code allows us to represent them in the real line easily."
   ]
  },
  {
   "cell_type": "code",
   "execution_count": 91,
   "metadata": {},
   "outputs": [
    {
     "name": "stdout",
     "output_type": "stream",
     "text": [
      "[-0.5   -0.625 -0.75  -0.875  0.5    0.625  0.75   0.875 -1.    -1.25  -1.5\n",
      " -1.75   1.     1.25   1.5    1.75  -2.    -2.5   -3.    -3.5    2.     2.5\n",
      "  3.     3.5  ]\n"
     ]
    },
    {
     "data": {
      "image/png": "[encoded data removed]",
      "text/plain": [
       "<matplotlib.figure.Figure at 0x7ff3dda66d30>"
      ]
     },
     "metadata": {},
     "output_type": "display_data"
    }
   ],
   "source": [
    "# Displaying numbers in real line\n",
    "# INPUT: S,E,sign\n",
    "# OUPTUT: plot\n",
    "# Carles Falcó i Gandia\n",
    "# 12/01/19\n",
    "\n",
    "S = ['00','01','10','11']\n",
    "E = [-1,0,1]\n",
    "sign = [-1,1]\n",
    "dec = []\n",
    "for e in E:\n",
    "    for i in sign:\n",
    "        for s in S:\n",
    "            dec.append(i*(1+int(s[0])/2+int(s[1])/4)*2**e)\n",
    "dec = array(dec)\n",
    "print(dec)\n",
    "plt.figure(figsize = (15,2))\n",
    "plt.scatter(dec,zeros(dec.size))\n",
    "plt.grid()\n",
    "plt.title('Representation in the real line (Toy floating point numbers)')\n",
    "plt.show()"
   ]
  },
  {
   "cell_type": "markdown",
   "metadata": {},
   "source": [
    "As we can see they're not uniformly distributed.\n",
    "\n",
    "(c) The machine precision of this reduced system is $\\epsilon =2^{-2} = 0.25$. Note that $1+\\epsilon$ is precisely the smallest number greater than 1."
   ]
  },
  {
   "cell_type": "markdown",
   "metadata": {},
   "source": [
    "# How many numbers are there in double precision?\n",
    "\n",
    "Following the same idea as before, there are:\n",
    "* 2 ways of choosing the sign\n",
    "* $2^52$ ways of choosing the mantissa\n",
    "* 11 ways of choosing the exponent\n",
    "\n",
    "By principle of counting there are $2\\cdot2^52\\cdot 2^11 = 2^64 = 18446744073709551616$ numbers in double precision.\n",
    "\n",
    "# Arithmetic with only two digits using rounding\n",
    "$x = 2.5$ and $y=2.4$. Then we have:\n",
    "$$(x-y)^2 = \\text{round}(0.01) = 0.0$$\n",
    "but also $$x^2+y^2-2xy=\\text{round}(6.25)+\\text{round}(5.76)-12 = 6.3 + 5.8-12 = 0.1$$ while the actual value should be $(x-y)^2 = 0.01$.\n",
    "\n",
    "# Computing $x-\\sin(x)$\n",
    "for small $x$. If for instance $x = 0.05$ we have\n",
    "\n",
    "# $y= \\sqrt{1+x} -1$ for small $x$\n",
    "\n",
    "(a) First we see that it can be written as:\n",
    "$$y= \\sqrt{1+x} -1 = \\sqrt{1+x} -1\\frac{\\sqrt{1+x} +1}{\\sqrt{1+x} +1} = \\frac{x}{\\sqrt{1+x} +1}$$\n",
    "\n",
    "(b) When substracting two numbers that are really close in magnitude a cancellation of digits occurs. Let's see this. Imagine that $x,y$ have different sign and $x+y\\approx 0$ or at least, its sum it's close to 0. If $fl(x)$ is the floating point representation of $x$ and we assume that their sum is computed exactly we have:\n",
    "$$fl(x)+fl(y) = x(1+\\delta_x) + y(1+\\delta_y) = (x+y) + (x\\delta_x + y\\delta_y)$$ with $|\\delta_x|,|\\delta_y| < \\epsilon$.\n",
    "Then the relative error we make when adding is:\n",
    "$$\\big|\\frac{x+y -fl(x)-fl(y)}{x+y}\\big| = \\big|\\frac{x\\delta_x}{x+y}+\\frac{y\\delta_y}{x+y}\\big|$$ which becomes large as $x+y\\approx 0$. This is exactly what happens with $y$ when $x$ is small. However by rewriting $y$ in the way we did we avoid having to compute the difference between two close numbers in magnitude and thus, this cancellation of digits.\n",
    "\n",
    "# Machine precision\n",
    "\n",
    "By running the program we see that:"
   ]
  },
  {
   "cell_type": "code",
   "execution_count": 15,
   "metadata": {},
   "outputs": [
    {
     "name": "stdout",
     "output_type": "stream",
     "text": [
      "Machine precision eps\n"
     ]
    },
    {
     "data": {
      "text/plain": [
       "2.220446049250313e-16"
      ]
     },
     "execution_count": 15,
     "metadata": {},
     "output_type": "execute_result"
    }
   ],
   "source": [
    "# Machine precision\n",
    "# 14/01/2019\n",
    "\n",
    "a = 4/3\n",
    "b = a-1\n",
    "c = b+b+b\n",
    "eps0 = abs ( c-1 )\n",
    "print(\"Machine precision eps\")\n",
    "eps0"
   ]
  },
  {
   "cell_type": "code",
   "execution_count": 16,
   "metadata": {},
   "outputs": [
    {
     "data": {
      "text/plain": [
       "0.04997916927067833"
      ]
     },
     "execution_count": 16,
     "metadata": {},
     "output_type": "execute_result"
    }
   ],
   "source": [
    "x = 0.05\n",
    "sin(x)"
   ]
  },
  {
   "cell_type": "code",
   "execution_count": 26,
   "metadata": {
    "collapsed": true
   },
   "outputs": [],
   "source": [
    "dif = 0.00002083072932167\n",
    "z = sin(x)"
   ]
  },
  {
   "cell_type": "code",
   "execution_count": 27,
   "metadata": {},
   "outputs": [
    {
     "data": {
      "text/plain": [
       "0.05"
      ]
     },
     "execution_count": 27,
     "metadata": {},
     "output_type": "execute_result"
    }
   ],
   "source": [
    "z+dif"
   ]
  },
  {
   "cell_type": "code",
   "execution_count": 28,
   "metadata": {
    "collapsed": true
   },
   "outputs": [],
   "source": [
    "r = x-sin(x)"
   ]
  },
  {
   "cell_type": "code",
   "execution_count": 29,
   "metadata": {},
   "outputs": [
    {
     "data": {
      "text/plain": [
       "2.083072932167196e-05"
      ]
     },
     "execution_count": 29,
     "metadata": {},
     "output_type": "execute_result"
    }
   ],
   "source": [
    "r"
   ]
  },
  {
   "cell_type": "code",
   "execution_count": 30,
   "metadata": {},
   "outputs": [
    {
     "data": {
      "text/plain": [
       "-1.9583401740519424e-18"
      ]
     },
     "execution_count": 30,
     "metadata": {},
     "output_type": "execute_result"
    }
   ],
   "source": []
  },
  {
   "cell_type": "code",
   "execution_count": 31,
   "metadata": {},
   "outputs": [
    {
     "data": {
      "text/plain": [
       "2.083072932167196e-05"
      ]
     },
     "execution_count": 31,
     "metadata": {},
     "output_type": "execute_result"
    }
   ],
   "source": [
    "0.05-sin(0.05)"
   ]
  },
  {
   "cell_type": "code",
   "execution_count": 34,
   "metadata": {},
   "outputs": [
    {
     "ename": "TypeError",
     "evalue": "'float' object cannot be interpreted as an integer",
     "output_type": "error",
     "traceback": [
      "\u001b[1;31m---------------------------------------------------------------------------\u001b[0m",
      "\u001b[1;31mTypeError\u001b[0m                                 Traceback (most recent call last)",
      "\u001b[1;32m<ipython-input-34-400a8f31f70e>\u001b[0m in \u001b[0;36m<module>\u001b[1;34m()\u001b[0m\n\u001b[1;32m----> 1\u001b[1;33m \u001b[0mbin\u001b[0m\u001b[1;33m(\u001b[0m\u001b[1;36m0.05\u001b[0m\u001b[1;33m)\u001b[0m\u001b[1;33m\u001b[0m\u001b[0m\n\u001b[0m",
      "\u001b[1;31mTypeError\u001b[0m: 'float' object cannot be interpreted as an integer"
     ]
    }
   ],
   "source": []
  },
  {
   "cell_type": "code",
   "execution_count": null,
   "metadata": {
    "collapsed": true
   },
   "outputs": [],
   "source": []
  }
 ],
 "metadata": {
  "kernelspec": {
   "display_name": "Python 3",
   "language": "python",
   "name": "python3"
  },
  "language_info": {
   "codemirror_mode": {
    "name": "ipython",
    "version": 3
   },
   "file_extension": ".py",
   "mimetype": "text/x-python",
   "name": "python",
   "nbconvert_exporter": "python",
   "pygments_lexer": "ipython3",
   "version": "3.6.3"
  }
 },
 "nbformat": 4,
 "nbformat_minor": 2
}
