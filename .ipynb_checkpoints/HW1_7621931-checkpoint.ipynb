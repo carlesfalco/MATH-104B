{
 "cells": [
  {
   "cell_type": "markdown",
   "metadata": {},
   "source": [
    "Carles Falcó i Gandia\n",
    "\n",
    "Perm Number: 7621931\n",
    "\n",
    "falcoigandia@ucsb.edu"
   ]
  },
  {
   "cell_type": "code",
   "execution_count": 1,
   "metadata": {
    "collapsed": true
   },
   "outputs": [],
   "source": [
    "import matplotlib.pyplot as plt\n",
    "from numpy import zeros, array\n",
    "from math import factorial, sin\n",
    "from pandas import DataFrame\n",
    "from time import time"
   ]
  },
  {
   "cell_type": "markdown",
   "metadata": {},
   "source": [
    "# Reduced system\n",
    "where floating point numbers are represented as $x = \\pm S\\cdot 2^E$ with $S = (1.b_1b_2)_2$ and $E\\in\\{-1,0,1\\}$.\n",
    " \n",
    "(a) Using basic principle of counting we see that there are:\n",
    "* 2 ways of choosing the sign\n",
    "* $2^2$ ways of choosing the mantissa\n",
    "* 3 ways of choosing the exponent\n",
    "\n",
    "Then a total of $2\\cdot 2^2\\cdot 3 = 24$ numbers can be represented.\n",
    "\n",
    "(b) The following code allows us to represent them in the real line easily."
   ]
  },
  {
   "cell_type": "code",
   "execution_count": 2,
   "metadata": {},
   "outputs": [
    {
     "name": "stdout",
     "output_type": "stream",
     "text": [
      "[-0.5   -0.625 -0.75  -0.875  0.5    0.625  0.75   0.875 -1.    -1.25  -1.5\n",
      " -1.75   1.     1.25   1.5    1.75  -2.    -2.5   -3.    -3.5    2.     2.5\n",
      "  3.     3.5  ]\n"
     ]
    },
    {
     "data": {
      "image/png": "[encoded data removed]",
      "text/plain": [
       "<matplotlib.figure.Figure at 0x21c9c6c5d68>"
      ]
     },
     "metadata": {},
     "output_type": "display_data"
    }
   ],
   "source": [
    "# Displaying numbers in real line\n",
    "# INPUT: S,E,sign\n",
    "# OUPTUT: plot\n",
    "# Carles Falcó i Gandia\n",
    "# 12/01/19\n",
    "\n",
    "S = ['00','01','10','11']\n",
    "E = [-1,0,1]\n",
    "sign = [-1,1]\n",
    "dec = []\n",
    "for e in E:\n",
    "    for i in sign:\n",
    "        for s in S:\n",
    "            dec.append(i*(1+int(s[0])/2+int(s[1])/4)*2**e)\n",
    "dec = array(dec)\n",
    "print(dec)\n",
    "plt.figure(figsize = (15,2))\n",
    "plt.scatter(dec,zeros(dec.size))\n",
    "plt.grid()\n",
    "plt.title('Representation in the real line (Toy floating point numbers)')\n",
    "plt.show()"
   ]
  },
  {
   "cell_type": "markdown",
   "metadata": {},
   "source": [
    "As we can see they're not uniformly distributed.\n",
    "\n",
    "(c) The machine precision of this reduced system is $\\epsilon =2^{-2} = 0.25$. Note that $1+\\epsilon$ is precisely the smallest number greater than 1."
   ]
  },
  {
   "cell_type": "markdown",
   "metadata": {},
   "source": [
    "# How many numbers are there in double precision?\n",
    "\n",
    "Following the same idea as before, there are:\n",
    "* 2 ways of choosing the sign\n",
    "* $2^{52}$ ways of choosing the mantissa\n",
    "* 11 bits for the exponent $\\implies$ $2^{11}$ ways of choosing the exponent\n",
    "\n",
    "By principle of counting there should be $2\\cdot2^{52}\\cdot 2^{11} = 2^{64} = 18446744073709551616$ numbers in double precision.\n",
    "However, according \"Numerical computing with IEEE floating point arithmetic\" by M. Overton, the IEEE double format uses two different representations for the number $0$ - $-0$ and $+0$. If we understand the question as \"how many different numbers are there...\" we should exclude one. Also we might not consider NaN and the infinities as numbers. These are represented by fixing to 1 all bits in the exponent. Then there are a total of $2^{64-11} = 2^{53}$ of these \"numbers\". In conclusion, with these considerations we can represent:\n",
    "$$2^{64}-2^{53} -1 = 18428729675200069631$$\n",
    "different numbers in the IEEE double precision format.\n",
    "\n",
    "# Arithmetic with only two digits using rounding\n",
    "$x = 2.5$ and $y=2.4$. Then we have:\n",
    "$$(x-y)^2 = \\text{round}(0.01) = 0.0$$\n",
    "but also $$x^2+y^2-2xy=\\text{round}(6.25)+\\text{round}(5.76)-12 = 6.3 + 5.8-12 = 0.1$$ while the actual value should be $(x-y)^2 = 0.01$.\n",
    "\n",
    "# Computing $x-\\sin(x)$\n",
    "for small $x$. We'll have digits cancellation since $\\sin(x)\\approx x $ for small $x$. First, we can estimate the number of bits we lose in the following way. Imagine that we have $y,x$ with $x>y$ and we find positive integers $p,q$ such that:\n",
    "$$2^{-q} \\leq 1-\\frac{y}{x}\\leq 2^{-p}$$\n",
    "Now let's write the floating point representation of $y,x$:\n",
    "$$x = S_1\\cdot2^{E_1}$$\n",
    "$$y = S_2\\cdot2^{E_2}$$ where the two mantissas are greater or equal than 1 and less than 2. Since $x>y$, $E_1>E_2$ and we can rewrite $y = (S_2\\cdot2^{E_2-E_1})\\cdot2^{E_1}$. Taking the difference we see that:\n",
    "$$x-y = (S_1-S_2\\cdot2^{E_2-E_1})\\cdot 2^{E_1}$$ Note that this mantissa\n",
    "$$(S_1-S_2\\cdot2^{E_2-E_1}) = S_1\\Big(1-\\frac{S_2\\cdot2^{E_2}}{S_2\\cdot2^{E_2}}\\Big) = S_1\\Big(1-\\frac{y}{x}\\Big)$$ is greater than $2^{-q}$ and less than $2^{-p}$. This means that in order to have a normalized representation of the number $x-y$ we should shift the exponent at least $p$ and at most $q$ digits. This means that at least $p$ bits and at most $q$ bits are lost when shifting the exponent.\n",
    "\n",
    "In our case we have that $\\tfrac{\\sin(x)}{x}>0.99958\\Leftrightarrow 1-\\tfrac{\\sin(x)}{x} < 0.00042 < 2^{-11}$. Similarly $\\tfrac{\\sin(x)}{x}<0.9996\\Leftrightarrow 1-\\tfrac{\\sin(x)}{x} > 0.0004> 2^{-12}$. Then according with what we've seen we have that at least we're losing 11 bits of accuracy and at most 12 bits. We'll use the second part of this problem to estimate the relative error we make in this computation.\n",
    "\n",
    "Another way to compute the difference $x-\\sin(x)$ is by using the Taylor expansion at $a=0$ for $$\\sin(x) = x-\\frac{x^3}{3!}+\\frac{x^5}{5!}+\\ldots$$\n",
    "A common expression for the remainder of $f(x) = x-\\sin(x)$ is $$R_k(x)=\\frac{f^{k+1)}(\\eta)}{(k+1)!}x^{k+1}$$ with $\\eta\\in(0,x)$. The derivatives of $f$ are bounded by 1 and then the error we make by using a Taylor expansion is always less than the quantity: $$\\frac{|x|^{k+1}}{(k+1)!}$$\n",
    "If $x$ is small enough we don't need a lot of terms in the Taylor expansion to ensure that the error we make is less than $\\epsilon$ or at least similar. The following code illustrates this."
   ]
  },
  {
   "cell_type": "code",
   "execution_count": 3,
   "metadata": {},
   "outputs": [
    {
     "name": "stdout",
     "output_type": "stream",
     "text": [
      "- Testing for x = 0.1000\n",
      "The needed degree for the desired accuracy is: 9\n",
      "The aproximated value of x-sin(x) is: 0.0001665833531718\n",
      "- Testing for x = 0.0500\n",
      "The needed degree for the desired accuracy is: 8\n",
      "The aproximated value of x-sin(x) is: 0.0000208307293217\n",
      "- Testing for x = -0.0500\n",
      "The needed degree for the desired accuracy is: 8\n",
      "The aproximated value of x-sin(x) is: -0.0000208307293217\n",
      "- Testing for x = 0.0050\n",
      "The needed degree for the desired accuracy is: 5\n",
      "The aproximated value of x-sin(x) is: 0.0000000208333073\n",
      "- Testing for x = 0.0001\n",
      "The needed degree for the desired accuracy is: 3\n",
      "The aproximated value of x-sin(x) is: 0.0000000000001667\n"
     ]
    }
   ],
   "source": [
    "# Truncated Taylor series of x-sin(x)\n",
    "# INPUT: x, k (degree)\n",
    "# OUTPUT: approx x-sin(x)\n",
    "# Carles Falcó i Gandia\n",
    "# 14/01/2019\n",
    "\n",
    "def sin_taylor(x,k):\n",
    "    return sum([(-1)**(j/2+1/2)*x**j/factorial(j) for j in range(3,k+1,2)])\n",
    "\n",
    "# Estimating needed degree\n",
    "# INPUT: x\n",
    "# OUTPUT: needed degree\n",
    "# Carles Falcó i Gandia\n",
    "# 14/01/2019\n",
    "\n",
    "tol = 2**(-52) # nearly full machine precision\n",
    "t_max = 30 # limit in time s\n",
    "\n",
    "def needed_degree(x):\n",
    "    tic = time()\n",
    "    x = abs(x)\n",
    "    k = 1\n",
    "    while(abs(x)**(k+1)/factorial(k+1) > tol and time() - tic < t_max):\n",
    "        k += 1\n",
    "    return k\n",
    "\n",
    "# Testing for x = 0.05, -0.05, 0.005, 0.0001\n",
    "l = [0.1,0.05,-0.05,0.005,0.0001]\n",
    "for k in l:\n",
    "    print(\"- Testing for x = %.4f\" % k)\n",
    "    print(\"The needed degree for the desired accuracy is: %i\" % needed_degree(k))\n",
    "    print(\"The aproximated value of x-sin(x) is: %.16f\" % sin_taylor(k,needed_degree(k)))"
   ]
  },
  {
   "cell_type": "markdown",
   "metadata": {},
   "source": [
    "Note that only a few terms in the Taylor expansion are needed to achieve nearly full machine precision as $x$ becomes smaller. With this, we can estimate the relative error we make when doing $x-\\sin(x)$ for small values of $x$. This relative error will be given by:\n",
    "$$\\big|\\frac{y-fl(y)}{y}\\big|$$ where $y = x-\\sin(x)$. We'll compute the relative error for the values of $x = 0.05,0.005,0.0005,2^{-15},2^{-30}$."
   ]
  },
  {
   "cell_type": "code",
   "execution_count": 4,
   "metadata": {},
   "outputs": [
    {
     "data": {
      "text/html": [
       "<div>\n",
       "<style>\n",
       "    .dataframe thead tr:only-child th {\n",
       "        text-align: right;\n",
       "    }\n",
       "\n",
       "    .dataframe thead th {\n",
       "        text-align: left;\n",
       "    }\n",
       "\n",
       "    .dataframe tbody tr th {\n",
       "        vertical-align: top;\n",
       "    }\n",
       "</style>\n",
       "<table border=\"1\" class=\"dataframe\">\n",
       "  <thead>\n",
       "    <tr style=\"text-align: right;\">\n",
       "      <th></th>\n",
       "      <th>$x$</th>\n",
       "      <th>Relative eror</th>\n",
       "    </tr>\n",
       "  </thead>\n",
       "  <tbody>\n",
       "    <tr>\n",
       "      <th>0</th>\n",
       "      <td>5.000000e-02</td>\n",
       "      <td>2.223434e-13</td>\n",
       "    </tr>\n",
       "    <tr>\n",
       "      <th>1</th>\n",
       "      <td>5.000000e-03</td>\n",
       "      <td>1.477428e-11</td>\n",
       "    </tr>\n",
       "    <tr>\n",
       "      <th>2</th>\n",
       "      <td>5.000000e-04</td>\n",
       "      <td>1.093470e-08</td>\n",
       "    </tr>\n",
       "    <tr>\n",
       "      <th>3</th>\n",
       "      <td>3.051758e-05</td>\n",
       "      <td>2.384186e-07</td>\n",
       "    </tr>\n",
       "    <tr>\n",
       "      <th>4</th>\n",
       "      <td>2.980232e-08</td>\n",
       "      <td>1.000000e+00</td>\n",
       "    </tr>\n",
       "  </tbody>\n",
       "</table>\n",
       "</div>"
      ],
      "text/plain": [
       "            $x$  Relative eror\n",
       "0  5.000000e-02   2.223434e-13\n",
       "1  5.000000e-03   1.477428e-11\n",
       "2  5.000000e-04   1.093470e-08\n",
       "3  3.051758e-05   2.384186e-07\n",
       "4  2.980232e-08   1.000000e+00"
      ]
     },
     "execution_count": 4,
     "metadata": {},
     "output_type": "execute_result"
    }
   ],
   "source": [
    "# Computing relative errors\n",
    "# INPUT: x\n",
    "# OUTPUT: relative errors\n",
    "# Carles Falcó i Gandia\n",
    "# 15/01/2019\n",
    "\n",
    "z = [0.05,0.005,0.0005,2**(-15),2**(-25)]\n",
    "\n",
    "def rel(y,fl_y):\n",
    "    return abs((y-fl_y)/y)\n",
    "\n",
    "rel_errors = [rel(i-sin(i),sin_taylor(i,needed_degree(i))) for i in z]\n",
    "\n",
    "data = {'$x$':z,'Relative eror':rel_errors}\n",
    "DataFrame(data)"
   ]
  },
  {
   "cell_type": "markdown",
   "metadata": {},
   "source": [
    "As the first relative errors may seem acceptable, note that when $x = 2^{-25}$ the digits cancellation leads to a relative error of 1."
   ]
  },
  {
   "cell_type": "markdown",
   "metadata": {},
   "source": [
    "# $y= \\sqrt{1+x} -1$ for small $x$\n",
    "\n",
    "(a) First we see that it can be written as:\n",
    "$$y= \\sqrt{1+x} -1 = \\sqrt{1+x} -1\\frac{\\sqrt{1+x} +1}{\\sqrt{1+x} +1} = \\frac{x}{\\sqrt{1+x} +1}$$\n",
    "\n",
    "(b) When substracting two numbers that are really close in magnitude a cancellation of digits occurs. Let's see this. Imagine that $x,y$ have different sign and $x+y\\approx 0$ or at least, its sum it's close to 0. If $fl(x)$ is the floating point representation of $x$ and we assume that their sum is computed exactly we have:\n",
    "$$fl(x)+fl(y) = x(1+\\delta_x) + y(1+\\delta_y) = (x+y) + (x\\delta_x + y\\delta_y)$$ with $|\\delta_x|,|\\delta_y| < \\epsilon$.\n",
    "Then the relative error we make when adding is:\n",
    "$$\\big|\\frac{x+y -fl(x)-fl(y)}{x+y}\\big| = \\big|\\frac{x\\delta_x}{x+y}+\\frac{y\\delta_y}{x+y}\\big|$$ which becomes large as $x+y\\approx 0$. This is exactly what happens with $y$ when $x$ is small. However by rewriting $y$ in the way we did we avoid having to compute the difference between two close numbers in magnitude and thus, this cancellation of digits.\n",
    "\n",
    "# Machine precision\n",
    "\n",
    "By running the program we see that:"
   ]
  },
  {
   "cell_type": "code",
   "execution_count": 5,
   "metadata": {},
   "outputs": [
    {
     "name": "stdout",
     "output_type": "stream",
     "text": [
      "Machine precision eps\n"
     ]
    },
    {
     "data": {
      "text/plain": [
       "2.220446049250313e-16"
      ]
     },
     "execution_count": 5,
     "metadata": {},
     "output_type": "execute_result"
    }
   ],
   "source": [
    "# Machine precision\n",
    "# 14/01/2019\n",
    "\n",
    "a = 4/3\n",
    "b = a - 1\n",
    "c = b + b + b\n",
    "eps0 = abs(c - 1)\n",
    "print(\"Machine precision eps\")\n",
    "eps0"
   ]
  }
 ],
 "metadata": {
  "kernelspec": {
   "display_name": "Python 3",
   "language": "python",
   "name": "python3"
  },
  "language_info": {
   "codemirror_mode": {
    "name": "ipython",
    "version": 3
   },
   "file_extension": ".py",
   "mimetype": "text/x-python",
   "name": "python",
   "nbconvert_exporter": "python",
   "pygments_lexer": "ipython3",
   "version": "3.6.3"
  }
 },
 "nbformat": 4,
 "nbformat_minor": 2
}
