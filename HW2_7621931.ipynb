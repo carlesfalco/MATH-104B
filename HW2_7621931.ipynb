{
 "cells": [
  {
   "cell_type": "markdown",
   "metadata": {},
   "source": [
    "Carles Falcó i Gandia\n",
    "\n",
    "Perm Number: 7621931\n",
    "\n",
    "falcoigandia@ucsb.edu"
   ]
  },
  {
   "cell_type": "code",
   "execution_count": 1,
   "metadata": {
    "collapsed": true
   },
   "outputs": [],
   "source": [
    "from numpy import exp, array, log, linspace, geomspace, log10\n",
    "from pandas import DataFrame, options\n",
    "import matplotlib.pyplot as plt\n",
    "from scipy.stats import linregress\n",
    "from math import pi"
   ]
  },
  {
   "cell_type": "markdown",
   "metadata": {},
   "source": [
    "# Approximating $f'(x_0)$\n",
    "\n",
    "Let $f(x) = e^x$\n",
    "\n",
    "(a) We'll compute the centered difference for $x_0 = 1/2$ and $h=0.1/2^n$ for $n=0,1,\\ldots,10$. We'll verify too, the quadratic rate of convergence."
   ]
  },
  {
   "cell_type": "code",
   "execution_count": 2,
   "metadata": {},
   "outputs": [
    {
     "data": {
      "image/png": "[encoded data removed]",
      "text/plain": [
       "<matplotlib.figure.Figure at 0x1ee3dd0fa20>"
      ]
     },
     "metadata": {},
     "output_type": "display_data"
    },
    {
     "name": "stdout",
     "output_type": "stream",
     "text": [
      "The actual value of the derivative is f'(1/2) = 1.648721\n"
     ]
    },
    {
     "data": {
      "text/html": [
       "<div>\n",
       "<style>\n",
       "    .dataframe thead tr:only-child th {\n",
       "        text-align: right;\n",
       "    }\n",
       "\n",
       "    .dataframe thead th {\n",
       "        text-align: left;\n",
       "    }\n",
       "\n",
       "    .dataframe tbody tr th {\n",
       "        vertical-align: top;\n",
       "    }\n",
       "</style>\n",
       "<table border=\"1\" class=\"dataframe\">\n",
       "  <thead>\n",
       "    <tr style=\"text-align: right;\">\n",
       "      <th></th>\n",
       "      <th>$D_h^0 f(1/2)$</th>\n",
       "      <th>$h$</th>\n",
       "      <th>Error</th>\n",
       "    </tr>\n",
       "  </thead>\n",
       "  <tbody>\n",
       "    <tr>\n",
       "      <th>0</th>\n",
       "      <td>1.651471</td>\n",
       "      <td>0.100000</td>\n",
       "      <td>2.749243e-03</td>\n",
       "    </tr>\n",
       "    <tr>\n",
       "      <th>1</th>\n",
       "      <td>1.649408</td>\n",
       "      <td>0.050000</td>\n",
       "      <td>6.870531e-04</td>\n",
       "    </tr>\n",
       "    <tr>\n",
       "      <th>2</th>\n",
       "      <td>1.648893</td>\n",
       "      <td>0.025000</td>\n",
       "      <td>1.717472e-04</td>\n",
       "    </tr>\n",
       "    <tr>\n",
       "      <th>3</th>\n",
       "      <td>1.648764</td>\n",
       "      <td>0.012500</td>\n",
       "      <td>4.293579e-05</td>\n",
       "    </tr>\n",
       "    <tr>\n",
       "      <th>4</th>\n",
       "      <td>1.648732</td>\n",
       "      <td>0.006250</td>\n",
       "      <td>1.073388e-05</td>\n",
       "    </tr>\n",
       "    <tr>\n",
       "      <th>5</th>\n",
       "      <td>1.648724</td>\n",
       "      <td>0.003125</td>\n",
       "      <td>2.683467e-06</td>\n",
       "    </tr>\n",
       "    <tr>\n",
       "      <th>6</th>\n",
       "      <td>1.648722</td>\n",
       "      <td>0.001563</td>\n",
       "      <td>6.708665e-07</td>\n",
       "    </tr>\n",
       "    <tr>\n",
       "      <th>7</th>\n",
       "      <td>1.648721</td>\n",
       "      <td>0.000781</td>\n",
       "      <td>1.677166e-07</td>\n",
       "    </tr>\n",
       "    <tr>\n",
       "      <th>8</th>\n",
       "      <td>1.648721</td>\n",
       "      <td>0.000391</td>\n",
       "      <td>4.192926e-08</td>\n",
       "    </tr>\n",
       "    <tr>\n",
       "      <th>9</th>\n",
       "      <td>1.648721</td>\n",
       "      <td>0.000195</td>\n",
       "      <td>1.048235e-08</td>\n",
       "    </tr>\n",
       "    <tr>\n",
       "      <th>10</th>\n",
       "      <td>1.648721</td>\n",
       "      <td>0.000098</td>\n",
       "      <td>2.621470e-09</td>\n",
       "    </tr>\n",
       "  </tbody>\n",
       "</table>\n",
       "</div>"
      ],
      "text/plain": [
       "    $D_h^0 f(1/2)$       $h$         Error\n",
       "0         1.651471  0.100000  2.749243e-03\n",
       "1         1.649408  0.050000  6.870531e-04\n",
       "2         1.648893  0.025000  1.717472e-04\n",
       "3         1.648764  0.012500  4.293579e-05\n",
       "4         1.648732  0.006250  1.073388e-05\n",
       "5         1.648724  0.003125  2.683467e-06\n",
       "6         1.648722  0.001563  6.708665e-07\n",
       "7         1.648721  0.000781  1.677166e-07\n",
       "8         1.648721  0.000391  4.192926e-08\n",
       "9         1.648721  0.000195  1.048235e-08\n",
       "10        1.648721  0.000098  2.621470e-09"
      ]
     },
     "execution_count": 2,
     "metadata": {},
     "output_type": "execute_result"
    }
   ],
   "source": [
    "fun = lambda x: exp(x) # Our function\n",
    "x_0 = 1/2 # x0\n",
    "h_ar = array( [0.1/2**n for n in range(0,10+1)] ) # h\n",
    "\n",
    "# Computing centered difference\n",
    "# INPUT: f,x0,h\n",
    "# OUTPUT: D_h^0 f(x0)\n",
    "# Carles Falcó i Gandia\n",
    "# 17/01/2019\n",
    "\n",
    "def cent_diff(f,x0,h):\n",
    "    return ( f(x0 + h) - f(x0 - h) )/2/h\n",
    "\n",
    "# Results\n",
    "\n",
    "D = cent_diff(fun,x_0,h_ar)\n",
    "error = abs(D-exp(1/2))\n",
    "\n",
    "# Plot of error vs h\n",
    "plt.scatter(h_ar, error,\n",
    "            marker = '.', label = '(Error, $h$)')\n",
    "plt.legend()\n",
    "plt.ylim(-max(error)*0.1, max(error)*1.1)\n",
    "plt.show()\n",
    "\n",
    "# Data \n",
    "data_1 = {'$h$':h_ar,'$D_h^0 f(1/2)$':D,'Error':error}\n",
    "print(\"The actual value of the derivative is f'(1/2) = %.6f\" % exp(1/2))\n",
    "DataFrame(data_1)"
   ]
  },
  {
   "cell_type": "markdown",
   "metadata": {},
   "source": [
    "From the plot at the table we can verify the quadratic rate of convergence. We can confirm it by taking the $\\log$ of the error and $h$, and finding the slope of a linear regression."
   ]
  },
  {
   "cell_type": "code",
   "execution_count": 3,
   "metadata": {},
   "outputs": [
    {
     "name": "stdout",
     "output_type": "stream",
     "text": [
      "We have found a slope = 2.00002\n"
     ]
    }
   ],
   "source": [
    "# Finding rate of convergence\n",
    "l_error = log(error)\n",
    "l_h = log(h_ar)\n",
    "slope = linregress(l_h,l_error)[0]\n",
    "print('We have found a slope = %.5f' % slope)"
   ]
  },
  {
   "cell_type": "markdown",
   "metadata": {},
   "source": [
    "We see that in a very good approximation the error \"goes\" like $h^2$.\n",
    "\n",
    "(b) We'll find now the optimal value of $h$ considering round-off and truncation errors. If the difference is computed exactly, we'll have, for $|\\delta_x|,|\\delta_y|<\\epsilon$:\n",
    "$$\\frac{f(x_0+h)(1+\\delta_x)-f(x_0-h)(1-\\delta_y)}{2h} = \\frac{f(x_0+h)-f(x_0-h)}{2h}+r_h$$\n",
    "with $$|r_h| = \\big|\\frac{f(x_0+h)\\delta_x-f(x_0-h)\\delta_y}{2h}\\big|\\leq\\big(|f(x_0+h)|+|f(x_0-h)|\\big)\\frac{\\epsilon}{2h}\\approx \\frac{|f(x_0)|\\epsilon}{h}$$\n",
    "\n",
    "Now we can bound the total error with:\n",
    "$$M_3h^2+\\frac{|f(x_0)|\\epsilon}{h}$$\n",
    "\n",
    "where $M_3=|f'''(\\eta)|/6$.\n",
    "This is minimized when $h = h_0$:\n",
    "$$h_0=\\Big(\\frac{3\\epsilon|f(x_0)|}{M_3}\\Big)^{1/3}=c\\epsilon^{1/3}\\sim\\epsilon^{1/3}$$\n",
    "\n",
    "We'll verify numerically that the error is minimum in this case."
   ]
  },
  {
   "cell_type": "code",
   "execution_count": 4,
   "metadata": {},
   "outputs": [
    {
     "data": {
      "image/png": "[encoded data removed]",
      "text/plain": [
       "<matplotlib.figure.Figure at 0x1ee3e35dd30>"
      ]
     },
     "metadata": {},
     "output_type": "display_data"
    },
    {
     "data": {
      "image/png": "[encoded data removed]",
      "text/plain": [
       "<matplotlib.figure.Figure at 0x1ee3def6c18>"
      ]
     },
     "metadata": {},
     "output_type": "display_data"
    }
   ],
   "source": [
    "# Verifying optimal value of h\n",
    "# Carles Falcó i Gandia\n",
    "# 17/01/2019\n",
    "\n",
    "eps = 2**(-52) # Machine precision\n",
    "h_opt = (eps)**(1/3) # Close to optimal h\n",
    "\n",
    "h_range_1 = geomspace(1e-8,1e-3,100) \n",
    "D_21 = cent_diff(fun, 1/2, h_range_1) # Centered differences h_range\n",
    "error_21 = abs(D_21-exp(1/2)) # Error\n",
    "# Taking logarithms for better visualization\n",
    "l_h_1 = log10(h_range_1)\n",
    "l_error_1 = log10(error_21)\n",
    "\n",
    "h_range_2 = linspace(h_opt - h_opt/0.3, h_opt + h_opt/0.5,15) # Small interval around h_opt\n",
    "D_22 = cent_diff(fun, 1/2, h_range_2) # Centered differences h_range\n",
    "error_22 = abs(D_22-exp(1/2)) # Error\n",
    "\n",
    "# Large range of h\n",
    "plt.scatter(l_h_1, l_error_1,marker = '.')\n",
    "plt.scatter(log10(h_opt),\n",
    "            log10(abs(cent_diff(fun,1/2,h_opt)-exp(1/2))),\n",
    "           marker = '.',label = '$h_0$')\n",
    "plt.legend()\n",
    "plt.xlabel('$\\log_{10}(h)$')\n",
    "plt.ylabel('$\\log_{10}(error)$')\n",
    "plt.show()\n",
    "\n",
    "# Plot near h_0\n",
    "plt.title('$(h_0-\\delta,h_0+\\delta)$')\n",
    "plt.scatter(h_range_2, error_22,\n",
    "            marker = '.', label = '(Error,$h$)')\n",
    "plt.scatter(h_opt,abs(cent_diff(fun,1/2,h_opt)-exp(1/2)),\n",
    "           label = '(Error,$h_{0}$)')\n",
    "plt.legend()\n",
    "plt.xlim(h_range_2[0]*1.16,h_range_2[-1]*1.16)\n",
    "plt.ylim(min(error_22),max(error_22))\n",
    "plt.show()"
   ]
  },
  {
   "cell_type": "markdown",
   "metadata": {},
   "source": [
    "In light of the above we see that we have the order of the minimum error when taking $h_0 = \\epsilon^{1/3}$. Note that, the best error we can get is $\\sim10^{-11}$, which differs in 5 orders of magnitude from the machine precision. This is exactly $O(\\epsilon^{2/3})$.\n",
    "\n",
    "(c) We'll construct a fourth order approximation to $f'(1/2)$ by using Richardson extrapolation. We know that:\n",
    "$$D_h^0f(x_0) = f'(x_0)+c_2h^2+c_4h^4+\\ldots$$\n",
    "By writing $D_{h/2}^0f(x_0)$ and substracting we can get:\n",
    "$$D_h^{ext}f(x_0) = \\frac{4D_{h/2}^0f(x_0)-D_h^0f(x_0)}{3} = f'(x_0)+Ch^4+\\ldots$$ Using this we can compute an approximation to $f'(1/2)$. We'll verify as in the previous case, the rate of convergence."
   ]
  },
  {
   "cell_type": "code",
   "execution_count": 5,
   "metadata": {},
   "outputs": [
    {
     "name": "stdout",
     "output_type": "stream",
     "text": [
      "The actual value of the derivative is f'(1/2) = 1.648721270700128\n"
     ]
    },
    {
     "data": {
      "text/html": [
       "<div>\n",
       "<style>\n",
       "    .dataframe thead tr:only-child th {\n",
       "        text-align: right;\n",
       "    }\n",
       "\n",
       "    .dataframe thead th {\n",
       "        text-align: left;\n",
       "    }\n",
       "\n",
       "    .dataframe tbody tr th {\n",
       "        vertical-align: top;\n",
       "    }\n",
       "</style>\n",
       "<table border=\"1\" class=\"dataframe\">\n",
       "  <thead>\n",
       "    <tr style=\"text-align: right;\">\n",
       "      <th></th>\n",
       "      <th>$D_h^{ext} f(.5)$</th>\n",
       "      <th>$h$</th>\n",
       "      <th>Error</th>\n",
       "    </tr>\n",
       "  </thead>\n",
       "  <tbody>\n",
       "    <tr>\n",
       "      <th>0</th>\n",
       "      <td>1.648720927114287</td>\n",
       "      <td>0.100000000000000</td>\n",
       "      <td>0.000000343585841</td>\n",
       "    </tr>\n",
       "    <tr>\n",
       "      <th>1</th>\n",
       "      <td>1.648721249230807</td>\n",
       "      <td>0.050000000000000</td>\n",
       "      <td>0.000000021469321</td>\n",
       "    </tr>\n",
       "    <tr>\n",
       "      <th>2</th>\n",
       "      <td>1.648721269358376</td>\n",
       "      <td>0.025000000000000</td>\n",
       "      <td>0.000000001341752</td>\n",
       "    </tr>\n",
       "    <tr>\n",
       "      <th>3</th>\n",
       "      <td>1.648721270616254</td>\n",
       "      <td>0.012500000000000</td>\n",
       "      <td>0.000000000083874</td>\n",
       "    </tr>\n",
       "    <tr>\n",
       "      <th>4</th>\n",
       "      <td>1.648721270694935</td>\n",
       "      <td>0.006250000000000</td>\n",
       "      <td>0.000000000005193</td>\n",
       "    </tr>\n",
       "    <tr>\n",
       "      <th>5</th>\n",
       "      <td>1.648721270699838</td>\n",
       "      <td>0.003125000000000</td>\n",
       "      <td>0.000000000000290</td>\n",
       "    </tr>\n",
       "    <tr>\n",
       "      <th>6</th>\n",
       "      <td>1.648721270700146</td>\n",
       "      <td>0.001562500000000</td>\n",
       "      <td>0.000000000000017</td>\n",
       "    </tr>\n",
       "  </tbody>\n",
       "</table>\n",
       "</div>"
      ],
      "text/plain": [
       "   $D_h^{ext} f(.5)$               $h$             Error\n",
       "0  1.648720927114287 0.100000000000000 0.000000343585841\n",
       "1  1.648721249230807 0.050000000000000 0.000000021469321\n",
       "2  1.648721269358376 0.025000000000000 0.000000001341752\n",
       "3  1.648721270616254 0.012500000000000 0.000000000083874\n",
       "4  1.648721270694935 0.006250000000000 0.000000000005193\n",
       "5  1.648721270699838 0.003125000000000 0.000000000000290\n",
       "6  1.648721270700146 0.001562500000000 0.000000000000017"
      ]
     },
     "execution_count": 5,
     "metadata": {},
     "output_type": "execute_result"
    }
   ],
   "source": [
    "h_ar_r = array( [0.1/2**n for n in range(0,6+1)] ) # Avoid round_off\n",
    "# Richardson extrapolation, centered difference\n",
    "# INPUT: f,x0,h\n",
    "# OUTPUT: D_h^ext f(x0)\n",
    "# Carles Falcó i Gandia\n",
    "# 17/01/2019\n",
    "\n",
    "def rich_cent_diff(f,x0,h):\n",
    "    return 1/3*(4*cent_diff(f,x0,h/2)-cent_diff(f,x0,h))\n",
    "\n",
    "# Results\n",
    "\n",
    "D_r = rich_cent_diff(fun,x_0,h_ar_r)\n",
    "error_r = abs(D_r-exp(1/2))\n",
    "\n",
    "# Data \n",
    "options.display.float_format = '{:,.15f}'.format\n",
    "data_2 = {'$h$':h_ar_r,'$D_h^{ext} f(.5)$':D_r,'Error':error_r}\n",
    "print(\"The actual value of the derivative is f'(1/2) = %.15f\" % exp(1/2))\n",
    "DataFrame(data_2)"
   ]
  },
  {
   "cell_type": "markdown",
   "metadata": {},
   "source": [
    "We can verify the rate of convergence in the same way as before"
   ]
  },
  {
   "cell_type": "code",
   "execution_count": 6,
   "metadata": {},
   "outputs": [
    {
     "name": "stdout",
     "output_type": "stream",
     "text": [
      "We have found a slope = 4.03879\n"
     ]
    }
   ],
   "source": [
    "# Finding rate of convergence\n",
    "l_error_r = log(error_r)\n",
    "l_h_r = log(h_ar_r)\n",
    "slope_r = linregress(l_h_r,l_error_r)[0]\n",
    "print('We have found a slope = %.5f' % slope_r)"
   ]
  },
  {
   "cell_type": "markdown",
   "metadata": {},
   "source": [
    "We have found then that the error goes approximately as $h^4$ as we expected. In this case the total error is bounded by:\n",
    "$$Ch^4+\\frac{|f(x_0)|\\epsilon}{h}$$\n",
    "\n",
    "Then we will find the minimum error when this two terms become comparable, this is when $h_0\\sim\\epsilon^{1/5}$. This implies that the minimum error is approximately $\\epsilon^{4/5}$. We can do a similar plot to verify it."
   ]
  },
  {
   "cell_type": "code",
   "execution_count": 7,
   "metadata": {},
   "outputs": [
    {
     "data": {
      "image/png": "[encoded data removed]",
      "text/plain": [
       "<matplotlib.figure.Figure at 0x1ee3a5ce860>"
      ]
     },
     "metadata": {},
     "output_type": "display_data"
    }
   ],
   "source": [
    "# Verifying optimal value of h\n",
    "# Carles Falcó i Gandia\n",
    "# 17/01/2019\n",
    "\n",
    "h_opt_r = (eps)**(1/5) # Close to optimal h\n",
    "\n",
    "h_range_r = geomspace(1e-8,5e-2,100) \n",
    "D_21_r = rich_cent_diff(fun, 1/2, h_range_r) # Centered differences h_range\n",
    "error_21_r = abs(D_21_r-exp(1/2)) # Error\n",
    "# Taking logarithms for better visualization\n",
    "l_h_r = log10(h_range_r)\n",
    "l_error_1_r = log10(error_21_r)\n",
    "\n",
    "# Large range of h\n",
    "plt.scatter(l_h_r, l_error_1_r,marker = '.')\n",
    "plt.scatter(log10(h_opt_r),\n",
    "            log10(abs(rich_cent_diff(fun,1/2,h_opt_r)-exp(1/2))),\n",
    "           marker = '.',label = '$h_0$')\n",
    "plt.legend()\n",
    "plt.xlabel('$\\log_{10}(h)$')\n",
    "plt.ylabel('$\\log_{10}(error)$')\n",
    "plt.show()"
   ]
  },
  {
   "cell_type": "markdown",
   "metadata": {},
   "source": [
    "As seen in the plot, the minimum error we can make is $\\sim10^{-14}$.\n",
    "\n",
    "(d) Now we'll use the Cauchy's Integral Formula to express $f'(x_0)$ as:\n",
    "$$f'(x_0) = \\frac{1}{2\\pi r}\\int_0^{2\\pi}f(x_0+re^{i\\theta})e^{-i\\theta}d\\theta$$\n",
    "\n",
    "By using the Composite Trapezoidal Rule we can approximate this integral up to machine precision."
   ]
  },
  {
   "cell_type": "code",
   "execution_count": 8,
   "metadata": {},
   "outputs": [
    {
     "name": "stdout",
     "output_type": "stream",
     "text": [
      "We find an error smaller than the machine precision for N = 14\n",
      "The approximated value of f'(x_0) = 1.6487212707001282\n",
      "The actual value of f'(x_0) = 1.6487212707001282\n"
     ]
    }
   ],
   "source": [
    "r = 1/2 # free choice\n",
    "\n",
    "# Composite Trapezoidal Rule\n",
    "# INPUT: h, function, a, b\n",
    "# OUTPUT: Thf\n",
    "# Carles Falcó i Gandia\n",
    "# 17/01/2019\n",
    "\n",
    "def ctr(f,h,a,b):\n",
    "    N = int((b-a)/h)\n",
    "    return h*sum( [f(a + i*h) for i in range(1,N)] ) + h/2*(f(a) + f(b))\n",
    "\n",
    "# Approximating the derivative\n",
    "# INPUT: f, x0, h\n",
    "# OUTPUT: Th(cauchy integral formula)\n",
    "# Carles Falcó i Gandia\n",
    "# 17/01/2019\n",
    "def cauchy_f_diff(f,x0,h):\n",
    "    f2 = lambda theta: f(x0 + r*exp(1j*theta))*exp(-1j*theta)\n",
    "    return (ctr(f2,h,0,2*pi)/2/pi/r).real\n",
    "\n",
    "# Estimating needed h for machine precision\n",
    "\n",
    "N = 2 # Number of points, composite trapezoidal rule\n",
    "while( abs( cauchy_f_diff(fun,x_0,2*pi/N)-exp(x_0) ) > eps and N < 100):\n",
    "    N += 1\n",
    "\n",
    "# Results\n",
    "print('We find an error smaller than the machine precision for N = %i' % N)\n",
    "print(\"The approximated value of f'(x_0) = %.16f\" % cauchy_f_diff(fun,x_0,2*pi/N))\n",
    "print(\"The actual value of f'(x_0) = %.16f\" % exp(x_0))"
   ]
  },
  {
   "cell_type": "markdown",
   "metadata": {},
   "source": [
    "# Error term, sided difference approximation\n",
    "\n",
    "We'll find the error term of the sided difference approximation to $f'(x_0)$:\n",
    "$$D_hf(x_0)=\\frac{-f(x_0+2h)+4f(x_0+h)+3f(x_0)}{2h}$$\n",
    "using Taylor serie expansion.\n",
    "According Taylor's theorem:\n",
    "$$f(x) = f(x_0) + f'(x_0)(x-x_0) + \\frac{1}{2}f''(x_0)(x-x_0)^2 + \\frac{1}{6}f''(\\eta(x))(x-x_0)^3$$\n",
    "where $\\eta(x)\\in(x_0,x)$.\n",
    "Now by making $x= x_0+h$ and $x = x_0 +2h$ one can write:\n",
    "$$f(x_0+h) = f(x_0) + f'(x_0)h + \\frac{1}{2}f''(x_0)h^2 + \\frac{1}{6}f'''(\\eta_1)h^3$$\n",
    "$$f(x_0+2h) = f(x_0) + 2f'(x_0)h + 2f''(x_0)h^2 + \\frac{4}{3}f'''(\\eta_2)h^3$$\n",
    "The we can express the difference:\n",
    "$$-f(x_0+2h)+4f(x_0+h)+3f(x_0) = 2f'(x_0)h -\\frac{2h^3}{3}(2f'''(\\eta_2)-f'''(\\eta_1))$$ and hence:\n",
    "$D_hf(x_0) = f'(x_0) +E_hf(x_0)$ with an error:\n",
    "$$E_hf(x_0) = \\frac{h^2}{3}(2f'''(\\eta_2)-f'''(\\eta_1))$$\n",
    "which \"goes\" like $h^2$.\n",
    "In real cases if we consider $M=\\max_{x\\in(x_0,x_0+2h)}|f'''(x)|$ we can find a bound for this error:\n",
    "$$|E_hf(x_0)| \\leq \\frac{h^2}{3}(2M+M) = Mh^2$$\n",
    "\n",
    "# Problem 3\n",
    "\n",
    "Given the data points $(x_0,f_0),\\ldots,(x_n,f_n)$ we'll prove that:\n",
    "\n",
    "(a) $$l_j'(x) = l_j(x)\\sum_{k=0,k\\neq j}^{n}\\frac{1}{x-x_k}$$ for $j = 0,1,\\ldots,n$ where the $l_j'$s are the elementary Lagrange polynomials:\n",
    "$$l_j(x)=\\frac{1}{\\alpha_j}\\prod_{k=0,k\\neq j}^{n}(x-x_k),\\;\\;\\; \\alpha_j = \\prod_{k=0,k\\neq j}^{n}(x_j-x_k)$$\n",
    "Differentiating $\\log l_j(x)$:\n",
    "$$\\frac{l_j'(x)}{l_j(x)} = \\frac{d}{dx}\\log l_j(x) = \\frac{d}{dx}\\sum_{k=0,k\\neq j}^{n}\\log(x-x_k) = \\sum_{k=0,k\\neq j}^{n}\\frac{1}{x-x_k}\\implies l_j'(x) = l_j(x)\\sum_{k=0,k\\neq j}^{n}\\frac{1}{x-x_k}$$\n",
    "\n",
    "(b) Now if $D_n$ is the differentiation matrix $(D_n)_{ij} = l_j'(x_i)$ we see that:\n",
    "$$(D_n)_{ii} = l_i'(x_i) = \\delta_{ii} \\sum_{k=0,k\\neq i}^{n}\\frac{1}{x_i-x_k} = \\sum_{k=0,k\\neq i}^{n}\\frac{1}{x_i-x_k}$$\n",
    "And if $i\\neq j$ from the definition of $l_j(x)$ we have that:\n",
    "$$l_j'(x_i) = \\frac{1}{\\alpha_j}\\prod_{k=0,k\\neq j,k\\neq i}^{n}(x_i-x_k) = \\frac{1}{\\alpha_j(x_i-x_j)}\\prod_{k=0,k\\neq i}^{n}(x_i-x_k) = \\frac{\\alpha_i}{\\alpha_j}\\frac{1}{(x_i-x_j)}$$\n",
    "\n",
    "(c) Now we'll prove that $$\\sum_{j=0}^n(D_n)_{ij} = 0$$ for $i=0,1,\\ldots,n$.\n",
    "The interpolating polynomial for this data is:\n",
    "$$p_n(x) = \\sum_{j=0}^nl_j(x)f_j$$\n",
    "If we consider $f(x)=1$, $f_j = 1\\forall j$, then a straight line interpolates the data. Given the unicity of $p_n(x)$ we have:\n",
    "$$1 = \\sum_{j=0}^nl_j(x)$$\n",
    "Taking the derivative of this expression one obtains:\n",
    "$$0 = \\sum_{j=0}^nl_j'(x)$$\n",
    "and in particular $\\forall i$, $x=x_i$ implies:\n",
    "$$0= \\sum_{j=0}^nl_j'(x_i) = \\sum_{j=0}^n(D_n)_{ij}$$\n",
    "\n",
    "(d) We'll compute $D_2$ for the Chebyshev points: $x_0=-1,x_1 = 0, x_2 = 1$. In this case it might be easier to compute $l_j'(x_i)$ directly. \n",
    "$$l_0(x) = \\frac{1}{2}(x^2-x),\\;\\;l_0'(x) = x-1/2$$\n",
    "$$l_1(x) = 1-x^2,\\;\\;l_1'(x) = -2x$$\n",
    "$$l_2(x) = \\frac{1}{2}(x^2+x),\\;\\;l_2'(x) = x+1/2$$\n",
    "and then:\n",
    "$$D_2 = \\begin{bmatrix}\n",
    "    -3/2       & 2 & -1/2 \\\\\n",
    "    -1/2       & 0 & 1/2  \\\\\n",
    "    1/2      & -2 & 3/2 \n",
    "\\end{bmatrix}$$"
   ]
  }
 ],
 "metadata": {
  "kernelspec": {
   "display_name": "Python 3",
   "language": "python",
   "name": "python3"
  },
  "language_info": {
   "codemirror_mode": {
    "name": "ipython",
    "version": 3
   },
   "file_extension": ".py",
   "mimetype": "text/x-python",
   "name": "python",
   "nbconvert_exporter": "python",
   "pygments_lexer": "ipython3",
   "version": "3.6.3"
  }
 },
 "nbformat": 4,
 "nbformat_minor": 2
}
